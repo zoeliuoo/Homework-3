{
 "cells": [
  {
   "cell_type": "code",
   "execution_count": 1,
   "metadata": {},
   "outputs": [],
   "source": [
    "import pandas as pd\n",
    "import os"
   ]
  },
  {
   "cell_type": "code",
   "execution_count": 2,
   "metadata": {},
   "outputs": [
    {
     "name": "stdout",
     "output_type": "stream",
     "text": [
      "         Voter ID County Candidate\n",
      "0        12864552  Marsh      Khan\n",
      "1        17444633  Marsh    Correy\n",
      "2        19330107  Marsh      Khan\n",
      "3        19865775  Queen      Khan\n",
      "4        11927875  Marsh      Khan\n",
      "...           ...    ...       ...\n",
      "3520996  18050509  Marsh      Khan\n",
      "3520997  13060332  Marsh      Khan\n",
      "3520998  16754708  Queen      Khan\n",
      "3520999  12083146  Queen      Khan\n",
      "3521000  14526187  Queen  O'Tooley\n",
      "\n",
      "[3521001 rows x 3 columns]\n"
     ]
    }
   ],
   "source": [
    "file = os.path.join(\"election_data.csv\")\n",
    "election  = pd.read_csv(file)\n",
    "print (election)"
   ]
  },
  {
   "cell_type": "code",
   "execution_count": 3,
   "metadata": {},
   "outputs": [
    {
     "name": "stdout",
     "output_type": "stream",
     "text": [
      "3521001\n"
     ]
    }
   ],
   "source": [
    "# The total number of votes cast\n",
    "voters=(len(election))\n",
    "print(voters)"
   ]
  },
  {
   "cell_type": "code",
   "execution_count": 4,
   "metadata": {},
   "outputs": [
    {
     "name": "stdout",
     "output_type": "stream",
     "text": [
      "Khan\n",
      "Correy\n",
      "Li\n",
      "O'Tooley\n"
     ]
    }
   ],
   "source": [
    "# A complete list of candidates who received votes\n",
    "candidates = election.drop_duplicates(['Candidate'])\n",
    "column = candidates['Candidate']\n",
    "for name in column:\n",
    "    print(name)"
   ]
  },
  {
   "cell_type": "code",
   "execution_count": 5,
   "metadata": {},
   "outputs": [
    {
     "name": "stdout",
     "output_type": "stream",
     "text": [
      "2218231\n",
      "704200\n",
      "492940\n",
      "105630\n"
     ]
    }
   ],
   "source": [
    "# The total number of votes each candidate won\n",
    "# sorry still don't know how to use loop here\n",
    "\n",
    "votersfork=election[election['Candidate'].isin(['Khan'])]\n",
    "votersforc=election[election['Candidate'].isin(['Correy'])]\n",
    "votersforl=election[election['Candidate'].isin(['Li'])]\n",
    "votersforo=election[election['Candidate'].isin([\"O'Tooley\"])]\n",
    "\n",
    "print(len(votersfork))\n",
    "print(len(votersforc))\n",
    "print(len(votersforl))\n",
    "print(len(votersforo))"
   ]
  },
  {
   "cell_type": "code",
   "execution_count": 13,
   "metadata": {},
   "outputs": [
    {
     "name": "stdout",
     "output_type": "stream",
     "text": [
      "[0.6300001050837531, 0.19999994319797126, 0.13999996023857988, 0.02999999147969569]\n"
     ]
    }
   ],
   "source": [
    "# The percentage of votes each candidate won\n",
    "percentagek= len(votersfork)/voters\n",
    "percentagec=len(votersforc)/voters\n",
    "percentagel=len(votersforl)/voters\n",
    "percentageo=len(votersforo)/voters\n",
    "list=[percentagek,percentagec,percentagel,percentageo]\n",
    "print(list)"
   ]
  },
  {
   "cell_type": "code",
   "execution_count": 11,
   "metadata": {},
   "outputs": [
    {
     "name": "stdout",
     "output_type": "stream",
     "text": [
      "0.6300001050837531\n"
     ]
    }
   ],
   "source": [
    "# The winner of the election based on popular vote\n",
    "winner = max(list)\n",
    "print(winner)"
   ]
  },
  {
   "cell_type": "code",
   "execution_count": null,
   "metadata": {},
   "outputs": [],
   "source": []
  }
 ],
 "metadata": {
  "kernelspec": {
   "display_name": "Python 3",
   "language": "python",
   "name": "python3"
  },
  "language_info": {
   "codemirror_mode": {
    "name": "ipython",
    "version": 3
   },
   "file_extension": ".py",
   "mimetype": "text/x-python",
   "name": "python",
   "nbconvert_exporter": "python",
   "pygments_lexer": "ipython3",
   "version": "3.7.4"
  }
 },
 "nbformat": 4,
 "nbformat_minor": 2
}

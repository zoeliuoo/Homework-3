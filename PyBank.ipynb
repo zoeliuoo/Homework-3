{
 "cells": [
  {
   "cell_type": "code",
   "execution_count": 14,
   "metadata": {},
   "outputs": [],
   "source": [
    "import pandas as pd\n",
    "import os"
   ]
  },
  {
   "cell_type": "code",
   "execution_count": 15,
   "metadata": {},
   "outputs": [],
   "source": [
    "file = os.path.join(\"budget_data.csv\")"
   ]
  },
  {
   "cell_type": "code",
   "execution_count": 16,
   "metadata": {},
   "outputs": [
    {
     "name": "stdout",
     "output_type": "stream",
     "text": [
      "        Date  Profit/Losses\n",
      "0   Jan-2010         867884\n",
      "1   Feb-2010         984655\n",
      "2   Mar-2010         322013\n",
      "3   Apr-2010         -69417\n",
      "4   May-2010         310503\n",
      "..       ...            ...\n",
      "81  Oct-2016         102685\n",
      "82  Nov-2016         795914\n",
      "83  Dec-2016          60988\n",
      "84  Jan-2017         138230\n",
      "85  Feb-2017         671099\n",
      "\n",
      "[86 rows x 2 columns]\n"
     ]
    }
   ],
   "source": [
    "data = pd.read_csv(file)\n",
    "print (data)"
   ]
  },
  {
   "cell_type": "code",
   "execution_count": 17,
   "metadata": {},
   "outputs": [
    {
     "name": "stdout",
     "output_type": "stream",
     "text": [
      "86\n"
     ]
    }
   ],
   "source": [
    "count = len(data)\n",
    "print(count)"
   ]
  },
  {
   "cell_type": "code",
   "execution_count": 18,
   "metadata": {},
   "outputs": [
    {
     "name": "stdout",
     "output_type": "stream",
     "text": [
      "38382578\n"
     ]
    }
   ],
   "source": [
    "#The net total amount of \"Profit/Losses\" over the entire period\n",
    "\n",
    "column_sum = data.iloc[0:86,1].sum()\n",
    "print (column_sum)"
   ]
  },
  {
   "cell_type": "code",
   "execution_count": 19,
   "metadata": {},
   "outputs": [
    {
     "name": "stdout",
     "output_type": "stream",
     "text": [
      "-2315.1176470588234\n"
     ]
    }
   ],
   "source": [
    "#The average of the changes in \"Profit/Losses\" over the entire period\n",
    "\n",
    "dif = data.iloc[85,1]-data.iloc[0,1]\n",
    "average = dif/(count-1)\n",
    "print (average)"
   ]
  },
  {
   "cell_type": "code",
   "execution_count": 20,
   "metadata": {},
   "outputs": [
    {
     "name": "stdout",
     "output_type": "stream",
     "text": [
      "0     867884\n",
      "1     984655\n",
      "2     322013\n",
      "3     -69417\n",
      "4     310503\n",
      "       ...  \n",
      "81    102685\n",
      "82    795914\n",
      "83     60988\n",
      "84    138230\n",
      "85    671099\n",
      "Name: Profit/Losses, Length: 86, dtype: int64\n"
     ]
    }
   ],
   "source": [
    "# The greatest increase in profits (date and amount) over the entire period\n",
    "# The greatest decrease in losses (date and amount) over the entire period\n",
    "\n",
    "df = pd.DataFrame(data)\n",
    "column = df['Profit/Losses']\n",
    "print (column)"
   ]
  },
  {
   "cell_type": "code",
   "execution_count": 21,
   "metadata": {},
   "outputs": [],
   "source": [
    "diff = column.diff()"
   ]
  },
  {
   "cell_type": "code",
   "execution_count": 22,
   "metadata": {},
   "outputs": [
    {
     "name": "stdout",
     "output_type": "stream",
     "text": [
      "-2196167.0\n",
      "1926159.0\n"
     ]
    }
   ],
   "source": [
    "min = diff.min()\n",
    "max = diff.max()\n",
    "print (min)\n",
    "print (max)"
   ]
  },
  {
   "cell_type": "code",
   "execution_count": 23,
   "metadata": {},
   "outputs": [
    {
     "name": "stdout",
     "output_type": "stream",
     "text": [
      "        Date      Diff\n",
      "0   Jan-2010       NaN\n",
      "1   Feb-2010  116771.0\n",
      "2   Mar-2010 -662642.0\n",
      "3   Apr-2010 -391430.0\n",
      "4   May-2010  379920.0\n",
      "..       ...       ...\n",
      "81  Oct-2016 -665765.0\n",
      "82  Nov-2016  693229.0\n",
      "83  Dec-2016 -734926.0\n",
      "84  Jan-2017   77242.0\n",
      "85  Feb-2017  532869.0\n",
      "\n",
      "[86 rows x 2 columns]\n"
     ]
    }
   ],
   "source": [
    "df['Diff']=diff\n",
    "df=df.drop(columns=['Profit/Losses'])\n",
    "print (df)"
   ]
  },
  {
   "cell_type": "code",
   "execution_count": 24,
   "metadata": {},
   "outputs": [
    {
     "name": "stdout",
     "output_type": "stream",
     "text": [
      "        Date       Diff\n",
      "25  Feb-2012  1926159.0\n",
      "        Date       Diff\n",
      "44  Sep-2013 -2196167.0\n"
     ]
    }
   ],
   "source": [
    "Greatest_Increase = df[df['Diff'].isin([max])]\n",
    "print (Greatest_Increase)\n",
    "\n",
    "Greatest_Decrease= df[df['Diff'].isin([min])]\n",
    "print (Greatest_Decrease)"
   ]
  }
 ],
 "metadata": {
  "kernelspec": {
   "display_name": "Python 3",
   "language": "python",
   "name": "python3"
  },
  "language_info": {
   "codemirror_mode": {
    "name": "ipython",
    "version": 3
   },
   "file_extension": ".py",
   "mimetype": "text/x-python",
   "name": "python",
   "nbconvert_exporter": "python",
   "pygments_lexer": "ipython3",
   "version": "3.7.4"
  }
 },
 "nbformat": 4,
 "nbformat_minor": 2
}
